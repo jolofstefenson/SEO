{
 "cells": [
  {
   "cell_type": "code",
   "execution_count": null,
   "metadata": {},
   "outputs": [],
   "source": [
    "import requests\n",
    "import pandas as pd\n",
    "from datetime import date"
   ]
  },
  {
   "cell_type": "code",
   "execution_count": null,
   "metadata": {},
   "outputs": [],
   "source": [
    "def url_compare(url, comp):\n",
    "    #Get data\n",
    "    d = requests.get(\"https://apiv2.ahrefs.com?token=\" + token + \"&from=domain_rating\"\n",
    "                     + \"&output=json&mode=prefix&select=domain_rating&target=\" + url)\n",
    "    u = requests.get(\"https://apiv2.ahrefs.com?token=\" + token + \"&from=pages\"\n",
    "                     + \"&output=json&mode=exact&select=ahrefs_rank&target=\" + url)\n",
    "    cd = requests.get(\"https://apiv2.ahrefs.com?token=\" + token + \"&from=domain_rating\"\n",
    "                     + \"&output=json&mode=prefix&select=domain_rating&target=\" + comp)\n",
    "    cu = requests.get(\"https://apiv2.ahrefs.com?token=\" + token + \"&from=pages\"\n",
    "                     + \"&output=json&mode=exact&select=ahrefs_rank&target=\" + comp)\n",
    "\n",
    "    #Convert to json\n",
    "    domain_json = d.json()\n",
    "    url_json = u.json()\n",
    "    cdomain_json = cd.json()\n",
    "    curl_json = cu.json()\n",
    "\n",
    "    #Build DF\n",
    "    urls = {'URL': [url[23:]]}\n",
    "    df = pd.DataFrame(urls, columns = ['URL'])\n",
    "    domain_df = pd.DataFrame(domain_json)\n",
    "    domain_transp = domain_df.T\n",
    "    \n",
    "    url_df = pd.DataFrame(url_json[\"pages\"])\n",
    "    cdomain_df = pd.DataFrame(cdomain_json)\n",
    "    cdomain_transp = cdomain_df.T\n",
    "    curl_df = pd.DataFrame(curl_json[\"pages\"])\n",
    "    \n",
    "    if url_df.empty:\n",
    "        url_df[0] = 0\n",
    "    if curl_df.empty:\n",
    "        curl_df[0] = 0\n",
    "        \n",
    "    domain_transp = domain_transp.rename(index={\"domain\": 0})\n",
    "    cdomain_transp = cdomain_transp.rename(index={\"domain\": 0})\n",
    "\n",
    "    df[\"DR\"] = domain_transp\n",
    "    df[\"UR\"] = url_df\n",
    "    df[\"Competitor\"] = comp\n",
    "    df[\"Comp_DR\"] = cdomain_transp\n",
    "    df[\"Comp_UR\"] = curl_df\n",
    "    df[\"Date\"] = date.today()\n",
    "\n",
    "    return df"
   ]
  },
  {
   "cell_type": "code",
   "execution_count": null,
   "metadata": {},
   "outputs": [],
   "source": [
    "token = \"\"\n",
    "target_url = [\"target url 1\"\n",
    "             , \"target url 2\"\n",
    "             ]\n",
    "\n",
    "target_comp = [\"competitor 1 url\"\n",
    "              , \"competitor 2 url\"]\n",
    "\n",
    "#url_data = url_compare(target_url[0], target_comp[0])\n",
    "for i in range(len(target_url)):\n",
    "    if i == 0:\n",
    "        url_data = url_compare(target_url[i], target_comp[i])\n",
    "    else:\n",
    "        url_data = url_data.append(url_compare(target_url[i], target_comp[i]), ignore_index=True)\n",
    "\n",
    "url_data[\"Link_Points_Deficit\"] = url_data[\"Comp_UR\"]-url_data[\"UR\"]\n",
    "url_data[\"Required_Backlinks\"] = url_data[\"Link_Points_Deficit\"] / 0.66\n",
    "display(url_data)\n",
    "url_data.to_csv(\"data/url_data{}.csv\".format(date.today()))"
   ]
  },
  {
   "cell_type": "code",
   "execution_count": null,
   "metadata": {},
   "outputs": [],
   "source": []
  }
 ],
 "metadata": {
  "kernelspec": {
   "display_name": "Python 3",
   "language": "python",
   "name": "python3"
  },
  "language_info": {
   "codemirror_mode": {
    "name": "ipython",
    "version": 3
   },
   "file_extension": ".py",
   "mimetype": "text/x-python",
   "name": "python",
   "nbconvert_exporter": "python",
   "pygments_lexer": "ipython3",
   "version": "3.8.5"
  }
 },
 "nbformat": 4,
 "nbformat_minor": 4
}
